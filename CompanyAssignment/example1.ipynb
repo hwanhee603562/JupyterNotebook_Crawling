{
 "cells": [
  {
   "cell_type": "code",
   "execution_count": 10,
   "id": "76053117",
   "metadata": {},
   "outputs": [],
   "source": [
    "from urllib.request import urlopen\n",
    "\n",
    "resp = urlopen(\"https://blog.naver.com/explore5468/223277407023\");"
   ]
  },
  {
   "cell_type": "code",
   "execution_count": 11,
   "id": "83200163",
   "metadata": {},
   "outputs": [
    {
     "data": {
      "text/plain": [
       "<http.client.HTTPResponse at 0x289ead824a0>"
      ]
     },
     "execution_count": 11,
     "metadata": {},
     "output_type": "execute_result"
    }
   ],
   "source": [
    "resp"
   ]
  },
  {
   "cell_type": "code",
   "execution_count": 12,
   "id": "5a255902",
   "metadata": {},
   "outputs": [
    {
     "data": {
      "text/plain": [
       "b'\\n\\n\\n\\n\\n\\n\\n<!DOCTYPE html PUBLIC \"-//W3C//DTD XHTML 1.0 Transitional//EN\" \"http://www.w3.org/TR/xhtml1/DTD/xhtml1-transitional.dtd\">\\n<html lang=\"ko\">\\n<head>\\n<meta http-equiv=\"Pragma\" content=\"no-cache\"/>\\n<meta http-equiv=\"Expires\" content=\"-1\"/>\\n<meta name=\"robots\" content=\"noindex,follow\"/>\\n<meta name=\"referrer\" content=\"always\"/>\\n<meta http-equiv=\"content-type\" content=\"text/html;charset=UTF-8\"/>\\n<meta http-equiv=\"X-UA-Compatible\" content=\"IE=edge,chrome=1\" />\\n<link rel=\"shortcut icon\" type=\"image/x-icon\" href=\"/favicon.ico?3\" />\\n<link rel=\"alternate\" type=\"application/rss+xml\" href=\"https://rss.blog.naver.com/explore5468.xml\" title=\"RSS feed for explore5468 Blog\"/>\\n<link rel=\"wlwmanifest\" type=\"application/wlwmanifest+xml\" href=\"https://blog.naver.com/NBlogWlwLayout.naver?blogId=explore5468\" />\\n\\n\\n\\n\\n<title>\\xed\\x95\\xab\\xed\\x94\\x8c\\xeb\\xa0\\x88\\xec\\x9d\\xb4\\xec\\x8a\\xa4 : \\xeb\\x84\\xa4\\xec\\x9d\\xb4\\xeb\\xb2\\x84 \\xeb\\xb8\\x94\\xeb\\xa1\\x9c\\xea\\xb7\\xb8</title>\\n</head>\\n<script type=\"text/javascript\" src=\"https://ssl.pstatic.net/t.static.blog/mylog/versioning/Frameset-478668353_https.js\" charset=\"UTF-8\"></script>\\n\\n<script type=\"text/javascript\" charset=\"UTF-8\">\\nvar photoContent=\"\";\\nvar postContent=\"\";\\n\\nvar videoId \\t  = \"\";\\nvar thumbnail \\t  = \"\";\\nvar inKey \\t\\t  = \"\";\\nvar movieFileSize = \"\";\\nvar playTime \\t  = \"\";\\nvar screenSize \\t  = \"\";\\n\\nvar blogId = \\'explore5468\\';\\nvar blogURL = \\'https://blog.naver.com\\';\\nvar eventCnt = \\'\\';\\n\\nvar g_ShareObject = {};\\ng_ShareObject.referer = \"\";\\n\\n\\njsMVC.setController(\"framesetTitleController\", FramesetTitleController);\\njsMVC.setController(\"framesetUrlController\", FramesetUrlController);\\njsMVC.setController(\"framesetMusicController\", FramesetMusicController);\\nvar oFramesetTitleController = jsMVC.getController(\"framesetTitleController\");\\nvar oFramesetUrlController = jsMVC.getController(\"framesetUrlController\");\\nvar oFramesetMusicController = jsMVC.getController(\"framesetMusicController\");\\nvar sTitle = document.title;\\n\\nvar topFrameAlert = function(message){\\n\\talert(message);\\n};\\n\\nvar topFrameConfirm = function(message){\\n\\tif(confirm(message)){\\n\\t\\treturn true;\\n\\t} else {\\n\\t\\treturn false;\\n\\t}\\n};\\n</script>\\n<style type=\"text/css\">\\n    html{width:100%;height:100%;}\\n    body{width:100%;height:100%;margin:0;padding:0;font-size:0;}\\n    #mainFrame{width:100%;height:100%;margin:0;padding:0;border:0;}\\n    #hiddenFrame{width:0;height:0;margin:0;padding:0;border:0;}\\n</style>\\n<body>\\n    <iframe id=\"mainFrame\" name=\"mainFrame\" allowfullscreen=\"true\" src=\"/PostView.naver?blogId=explore5468&logNo=223277407023&redirect=Dlog&widgetTypeCall=true&directAccess=false\" scrolling=\"auto\"  onload=\"oFramesetTitleController.start(self.frames[\\'mainFrame\\'], self, sTitle);oFramesetTitleController.onLoadFrame();oFramesetUrlController.start(self.frames[\\'mainFrame\\']);oFramesetUrlController.onLoadFrame()\" allowfullscreen></iframe>\\n</body>\\n</html>'"
      ]
     },
     "execution_count": 12,
     "metadata": {},
     "output_type": "execute_result"
    }
   ],
   "source": [
    "resp.read()"
   ]
  },
  {
   "cell_type": "markdown",
   "id": "0eb0a9c7",
   "metadata": {},
   "source": [
    "- 웹에서 이미지 추출하기 예제"
   ]
  },
  {
   "cell_type": "code",
   "execution_count": 13,
   "id": "92748349",
   "metadata": {},
   "outputs": [],
   "source": [
    "url = \"https://blog.naver.com/explore5468/223277407023\""
   ]
  },
  {
   "cell_type": "code",
   "execution_count": 14,
   "id": "5097d807",
   "metadata": {},
   "outputs": [
    {
     "name": "stdout",
     "output_type": "stream",
     "text": [
      "로고 저장 완료!\n"
     ]
    }
   ],
   "source": [
    "save_file_name = \"naver.html\"\n",
    "\n",
    "logo = urlopen(url).read()\n",
    "\n",
    "with open(save_file_name, mode=\"wb\") as f:\n",
    "    f.write(logo)\n",
    "    print('로고 저장 완료!')"
   ]
  },
  {
   "cell_type": "code",
   "execution_count": null,
   "id": "85a0fc7f",
   "metadata": {},
   "outputs": [],
   "source": []
  },
  {
   "cell_type": "code",
   "execution_count": 21,
   "id": "966fe1a4",
   "metadata": {},
   "outputs": [
    {
     "name": "stdout",
     "output_type": "stream",
     "text": [
      "로고 저장 완료\n"
     ]
    }
   ],
   "source": [
    "import urllib.request as ur\n",
    "\n",
    "save_file_name2 = 'logo2.png'\n",
    "\n",
    "ur.urlretrieve(url, save_file_name2)\n",
    "print('로고 저장 완료!')"
   ]
  },
  {
   "cell_type": "code",
   "execution_count": null,
   "id": "4b69dc90",
   "metadata": {},
   "outputs": [],
   "source": []
  },
  {
   "cell_type": "code",
   "execution_count": null,
   "id": "3047255b",
   "metadata": {},
   "outputs": [],
   "source": []
  },
  {
   "cell_type": "code",
   "execution_count": null,
   "id": "11024913",
   "metadata": {},
   "outputs": [],
   "source": []
  }
 ],
 "metadata": {
  "kernelspec": {
   "display_name": "Python 3 (ipykernel)",
   "language": "python",
   "name": "python3"
  },
  "language_info": {
   "codemirror_mode": {
    "name": "ipython",
    "version": 3
   },
   "file_extension": ".py",
   "mimetype": "text/x-python",
   "name": "python",
   "nbconvert_exporter": "python",
   "pygments_lexer": "ipython3",
   "version": "3.11.5"
  }
 },
 "nbformat": 4,
 "nbformat_minor": 5
}
