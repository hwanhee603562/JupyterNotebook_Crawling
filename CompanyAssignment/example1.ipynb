{
 "cells": [
  {
   "cell_type": "code",
   "execution_count": 13,
   "id": "76053117",
   "metadata": {},
   "outputs": [],
   "source": [
    "from urllib.request import urlopen\n",
    "\n",
    "resp = urlopen(\"http://www.example.com\");"
   ]
  },
  {
   "cell_type": "code",
   "execution_count": 14,
   "id": "83200163",
   "metadata": {},
   "outputs": [
    {
     "data": {
      "text/plain": [
       "<http.client.HTTPResponse at 0x1a5c18328c0>"
      ]
     },
     "execution_count": 14,
     "metadata": {},
     "output_type": "execute_result"
    }
   ],
   "source": [
    "resp"
   ]
  },
  {
   "cell_type": "code",
   "execution_count": 15,
   "id": "5a255902",
   "metadata": {},
   "outputs": [
    {
     "data": {
      "text/plain": [
       "b'<!doctype html>\\n<html>\\n<head>\\n    <title>Example Domain</title>\\n\\n    <meta charset=\"utf-8\" />\\n    <meta http-equiv=\"Content-type\" content=\"text/html; charset=utf-8\" />\\n    <meta name=\"viewport\" content=\"width=device-width, initial-scale=1\" />\\n    <style type=\"text/css\">\\n    body {\\n        background-color: #f0f0f2;\\n        margin: 0;\\n        padding: 0;\\n        font-family: -apple-system, system-ui, BlinkMacSystemFont, \"Segoe UI\", \"Open Sans\", \"Helvetica Neue\", Helvetica, Arial, sans-serif;\\n        \\n    }\\n    div {\\n        width: 600px;\\n        margin: 5em auto;\\n        padding: 2em;\\n        background-color: #fdfdff;\\n        border-radius: 0.5em;\\n        box-shadow: 2px 3px 7px 2px rgba(0,0,0,0.02);\\n    }\\n    a:link, a:visited {\\n        color: #38488f;\\n        text-decoration: none;\\n    }\\n    @media (max-width: 700px) {\\n        div {\\n            margin: 0 auto;\\n            width: auto;\\n        }\\n    }\\n    </style>    \\n</head>\\n\\n<body>\\n<div>\\n    <h1>Example Domain</h1>\\n    <p>This domain is for use in illustrative examples in documents. You may use this\\n    domain in literature without prior coordination or asking for permission.</p>\\n    <p><a href=\"https://www.iana.org/domains/example\">More information...</a></p>\\n</div>\\n</body>\\n</html>\\n'"
      ]
     },
     "execution_count": 15,
     "metadata": {},
     "output_type": "execute_result"
    }
   ],
   "source": [
    "resp.read()"
   ]
  },
  {
   "cell_type": "markdown",
   "id": "0eb0a9c7",
   "metadata": {},
   "source": [
    "- 웹에서 이미지 추출하기 예제"
   ]
  },
  {
   "cell_type": "code",
   "execution_count": 18,
   "id": "92748349",
   "metadata": {},
   "outputs": [],
   "source": [
    "url = \"https://t1.daumcdn.net/daumtop_chanel/op/20231221081525622.png\""
   ]
  },
  {
   "cell_type": "code",
   "execution_count": 19,
   "id": "5097d807",
   "metadata": {},
   "outputs": [
    {
     "name": "stdout",
     "output_type": "stream",
     "text": [
      "로고 저장 완료!\n"
     ]
    }
   ],
   "source": [
    "save_file_name = \"daum_log.png\"\n",
    "\n",
    "logo = urlopen(url).read()\n",
    "\n",
    "with open(save_file_name, mode=\"wb\") as f:\n",
    "    f.write(logo)\n",
    "    print('로고 저장 완료!')"
   ]
  },
  {
   "cell_type": "code",
   "execution_count": null,
   "id": "85a0fc7f",
   "metadata": {},
   "outputs": [],
   "source": []
  },
  {
   "cell_type": "code",
   "execution_count": 21,
   "id": "966fe1a4",
   "metadata": {},
   "outputs": [
    {
     "name": "stdout",
     "output_type": "stream",
     "text": [
      "로고 저장 완료\n"
     ]
    }
   ],
   "source": [
    "import urllib.request as ur\n",
    "\n",
    "save_file_name2 = 'logo2.png'\n",
    "\n",
    "ur.urlretrieve(url, save_file_name2)\n",
    "print('로고 저장 완료!')"
   ]
  },
  {
   "cell_type": "code",
   "execution_count": null,
   "id": "4b69dc90",
   "metadata": {},
   "outputs": [],
   "source": []
  },
  {
   "cell_type": "code",
   "execution_count": null,
   "id": "3047255b",
   "metadata": {},
   "outputs": [],
   "source": []
  },
  {
   "cell_type": "code",
   "execution_count": null,
   "id": "11024913",
   "metadata": {},
   "outputs": [],
   "source": []
  }
 ],
 "metadata": {
  "kernelspec": {
   "display_name": "Python 3 (ipykernel)",
   "language": "python",
   "name": "python3"
  },
  "language_info": {
   "codemirror_mode": {
    "name": "ipython",
    "version": 3
   },
   "file_extension": ".py",
   "mimetype": "text/x-python",
   "name": "python",
   "nbconvert_exporter": "python",
   "pygments_lexer": "ipython3",
   "version": "3.11.5"
  }
 },
 "nbformat": 4,
 "nbformat_minor": 5
}
