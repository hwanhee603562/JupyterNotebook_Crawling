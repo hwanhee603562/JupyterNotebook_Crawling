{
 "cells": [
  {
   "cell_type": "code",
   "execution_count": 2,
   "id": "0780f853",
   "metadata": {},
   "outputs": [
    {
     "name": "stdout",
     "output_type": "stream",
     "text": [
      "Requirement already satisfied: webdriver_manager in c:\\users\\ddu\\anaconda3\\lib\\site-packages (4.0.1)\n",
      "Requirement already satisfied: requests in c:\\users\\ddu\\anaconda3\\lib\\site-packages (from webdriver_manager) (2.31.0)\n",
      "Requirement already satisfied: python-dotenv in c:\\users\\ddu\\anaconda3\\lib\\site-packages (from webdriver_manager) (0.21.0)\n",
      "Requirement already satisfied: packaging in c:\\users\\ddu\\anaconda3\\lib\\site-packages (from webdriver_manager) (23.1)\n",
      "Requirement already satisfied: charset-normalizer<4,>=2 in c:\\users\\ddu\\anaconda3\\lib\\site-packages (from requests->webdriver_manager) (2.0.4)\n",
      "Requirement already satisfied: idna<4,>=2.5 in c:\\users\\ddu\\anaconda3\\lib\\site-packages (from requests->webdriver_manager) (3.4)\n",
      "Requirement already satisfied: urllib3<3,>=1.21.1 in c:\\users\\ddu\\anaconda3\\lib\\site-packages (from requests->webdriver_manager) (1.26.16)\n",
      "Requirement already satisfied: certifi>=2017.4.17 in c:\\users\\ddu\\anaconda3\\lib\\site-packages (from requests->webdriver_manager) (2023.7.22)\n"
     ]
    }
   ],
   "source": [
    "!pip install webdriver_manager"
   ]
  },
  {
   "cell_type": "code",
   "execution_count": 18,
   "id": "6da530d5",
   "metadata": {},
   "outputs": [
    {
     "name": "stdout",
     "output_type": "stream",
     "text": [
      "^C\n"
     ]
    }
   ],
   "source": [
    "!pip install -c conda-forge selenium"
   ]
  },
  {
   "cell_type": "code",
   "execution_count": 3,
   "id": "f96ef70b",
   "metadata": {},
   "outputs": [
    {
     "name": "stdout",
     "output_type": "stream",
     "text": [
      "Collecting chromedriver-autoinstaller\n",
      "  Obtaining dependency information for chromedriver-autoinstaller from https://files.pythonhosted.org/packages/6c/ae/c9946f89b42a752b38fa33fe82676e8e8fe722f3287d9909f3bd0e11e537/chromedriver_autoinstaller-0.6.3-py3-none-any.whl.metadata\n",
      "  Using cached chromedriver_autoinstaller-0.6.3-py3-none-any.whl.metadata (2.0 kB)\n",
      "Requirement already satisfied: packaging>=23.1 in c:\\users\\ddu\\anaconda3\\lib\\site-packages (from chromedriver-autoinstaller) (23.1)\n",
      "Using cached chromedriver_autoinstaller-0.6.3-py3-none-any.whl (7.6 kB)\n",
      "Installing collected packages: chromedriver-autoinstaller\n",
      "Successfully installed chromedriver-autoinstaller-0.6.3\n"
     ]
    }
   ],
   "source": [
    "!pip install chromedriver-autoinstaller"
   ]
  },
  {
   "cell_type": "code",
   "execution_count": null,
   "id": "3d1bced3",
   "metadata": {},
   "outputs": [],
   "source": []
  },
  {
   "cell_type": "code",
   "execution_count": 17,
   "id": "c11a91da",
   "metadata": {},
   "outputs": [],
   "source": [
    "from selenium import webdriver\n",
    "from selenium.webdriver.chrome.options import Options\n",
    "from selenium.webdriver.common.by import By\n",
    "from bs4 import BeautifulSoup\n",
    "import chromedriver_autoinstaller\n",
    "import pandas as pd"
   ]
  },
  {
   "cell_type": "code",
   "execution_count": 24,
   "id": "540f5578",
   "metadata": {},
   "outputs": [],
   "source": [
    "# 사용자 에이전트를 설정\n",
    "    # 어떤 종류의 브라우저로 요청을 보내는지에 대한 식별 문자열\n",
    "user_agent = \"Mozilla/5.0 (Windows NT 10.0; Win64; x64) AppleWebKit/537.36 (KHTML, like Gecko) Chrome/91.0.4472.124 Safari/537.36\"\n",
    "\n",
    "# 사용자 에이전트를 포함한 Chrome 옵션을 설정\n",
    "chrome_options = Options()\n",
    "chrome_options.add_argument(f\"user-agent={user_agent}\")\n",
    "chrome_options.add_argument('--headless') # Chrome 브라우저를 화면에 표시하지 않고, 백그라운드에서 실행\n",
    "\n",
    "# Chrome 드라이버를 설치\n",
    "chromedriver_autoinstaller.install()\n",
    "\n",
    "# Chrome 드라이버를 생성\n",
    "driver = webdriver.Chrome(options=chrome_options)"
   ]
  },
  {
   "cell_type": "code",
   "execution_count": 25,
   "id": "e244fc95",
   "metadata": {},
   "outputs": [],
   "source": [
    "# 크롤링할 페이지 URL '역삼 맛집'\n",
    "url = \"https://search.naver.com/search.naver?where=view&sm=tab_jum&query=%EC%97%AD%EC%82%BC+%EB%A7%9B%EC%A7%91\"\n",
    "driver.get(url)\n",
    "\n",
    "blog_links = []\n",
    "\n",
    "# 블로그 제목 클래스 선택\n",
    "titles = driver.find_elements(By.CLASS_NAME, 'title_link')\n",
    "\n",
    "# 상위 10개의 블로그 링크 저장\n",
    "for title in titles[:10]:\n",
    "    blog_links.append(title.get_attribute(\"href\"))"
   ]
  },
  {
   "cell_type": "code",
   "execution_count": 26,
   "id": "71f65d4f",
   "metadata": {},
   "outputs": [
    {
     "name": "stdout",
     "output_type": "stream",
     "text": [
      "iframe이 없습니다. 크롤링을 진행하지 않습니다.\n"
     ]
    }
   ],
   "source": [
    "for link in blog_links:\n",
    "    \n",
    "    driver.get(link)\n",
    "\n",
    "    # iframe 확인\n",
    "    try:\n",
    "        iframe = driver.find_element(By.TAG_NAME, 'iframe')\n",
    "        driver.switch_to.frame(iframe)\n",
    "\n",
    "        # 페이지 소스\n",
    "        page_source = driver.page_source\n",
    "\n",
    "        soup = BeautifulSoup(page_source, 'html.parser')\n",
    "\n",
    "        # 제목\n",
    "        title_element = soup.find('div', {'class': 'se-title-text'})\n",
    "        title = title_element.text.strip() if title_element else \"제목 없음\"\n",
    "\n",
    "        # 작성일자\n",
    "        date_element = soup.find('span', {'class': 'se_publishDate'})\n",
    "        publish_date = date_element.text.strip() if date_element else \"작성일자 없음\"\n",
    "\n",
    "        # 작성자 ID\n",
    "        author_element = soup.find('span', {'class': 'nick'})\n",
    "        author_id = author_element.find('a').text.strip() if author_element else \"작성자 ID 없음\"\n",
    "        \n",
    "        # 본문\n",
    "        content_element = soup.find('div', {'class': 'se-main-container'})\n",
    "        content = content_element.text.strip() if content_element else \"본문 없음\"\n",
    "        \n",
    "        # 데이터 리스트에 추가\n",
    "        data.append({\n",
    "            \"링크\": link,\n",
    "            \"작성일자\": publish_date,\n",
    "            \"작성자 ID\": author_id,\n",
    "            \"제목\": title,\n",
    "            \"내용\": content\n",
    "        })\n",
    "\n",
    "        # 메인 프레임으로 전환\n",
    "        driver.switch_to.default_content()\n",
    "        \n",
    "    except NoSuchElementException as e:\n",
    "        print(\"iframe이 없습니다. 크롤링을 진행하지 않습니다.\")"
   ]
  },
  {
   "cell_type": "code",
   "execution_count": null,
   "id": "a3ee86d9",
   "metadata": {},
   "outputs": [],
   "source": [
    "# 드라이버 종료\n",
    "driver.quit()"
   ]
  },
  {
   "cell_type": "code",
   "execution_count": 28,
   "id": "e1753151",
   "metadata": {},
   "outputs": [],
   "source": [
    "# 데이터를 DataFrame으로 변환\n",
    "df = pd.DataFrame(data)\n",
    "\n",
    "# Excel 파일로 저장\n",
    "df.to_excel(\"blog_data.xlsx\", index=False)"
   ]
  }
 ],
 "metadata": {
  "kernelspec": {
   "display_name": "Python 3 (ipykernel)",
   "language": "python",
   "name": "python3"
  },
  "language_info": {
   "codemirror_mode": {
    "name": "ipython",
    "version": 3
   },
   "file_extension": ".py",
   "mimetype": "text/x-python",
   "name": "python",
   "nbconvert_exporter": "python",
   "pygments_lexer": "ipython3",
   "version": "3.11.5"
  }
 },
 "nbformat": 4,
 "nbformat_minor": 5
}
