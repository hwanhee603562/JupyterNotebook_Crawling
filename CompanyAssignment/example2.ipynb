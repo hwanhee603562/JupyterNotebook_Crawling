{
 "cells": [
  {
   "cell_type": "code",
   "execution_count": 11,
   "id": "0780f853",
   "metadata": {},
   "outputs": [
    {
     "name": "stdout",
     "output_type": "stream",
     "text": [
      "Collecting webdriver_manager\n",
      "  Obtaining dependency information for webdriver_manager from https://files.pythonhosted.org/packages/b1/51/b5c11cf739ac4eecde611794a0ec9df420d0239d51e73bc19eb44f02b48b/webdriver_manager-4.0.1-py2.py3-none-any.whl.metadata\n",
      "  Downloading webdriver_manager-4.0.1-py2.py3-none-any.whl.metadata (12 kB)\n",
      "Requirement already satisfied: requests in c:\\users\\user\\anaconda3\\lib\\site-packages (from webdriver_manager) (2.31.0)\n",
      "Requirement already satisfied: python-dotenv in c:\\users\\user\\anaconda3\\lib\\site-packages (from webdriver_manager) (0.21.0)\n",
      "Requirement already satisfied: packaging in c:\\users\\user\\anaconda3\\lib\\site-packages (from webdriver_manager) (23.1)\n",
      "Requirement already satisfied: charset-normalizer<4,>=2 in c:\\users\\user\\anaconda3\\lib\\site-packages (from requests->webdriver_manager) (2.0.4)\n",
      "Requirement already satisfied: idna<4,>=2.5 in c:\\users\\user\\anaconda3\\lib\\site-packages (from requests->webdriver_manager) (3.4)\n",
      "Requirement already satisfied: urllib3<3,>=1.21.1 in c:\\users\\user\\anaconda3\\lib\\site-packages (from requests->webdriver_manager) (1.26.16)\n",
      "Requirement already satisfied: certifi>=2017.4.17 in c:\\users\\user\\anaconda3\\lib\\site-packages (from requests->webdriver_manager) (2023.7.22)\n",
      "Downloading webdriver_manager-4.0.1-py2.py3-none-any.whl (27 kB)\n",
      "Installing collected packages: webdriver_manager\n",
      "Successfully installed webdriver_manager-4.0.1\n",
      "Note: you may need to restart the kernel to use updated packages.\n"
     ]
    }
   ],
   "source": [
    "pip install webdriver_manager"
   ]
  },
  {
   "cell_type": "code",
   "execution_count": 18,
   "id": "6da530d5",
   "metadata": {},
   "outputs": [
    {
     "name": "stdout",
     "output_type": "stream",
     "text": [
      "^C\n"
     ]
    }
   ],
   "source": [
    "#conda install -c conda-forge selenium"
   ]
  },
  {
   "cell_type": "code",
   "execution_count": 19,
   "id": "e160e611",
   "metadata": {},
   "outputs": [
    {
     "name": "stdout",
     "output_type": "stream",
     "text": [
      "Collecting package metadata (current_repodata.json): ...working... done\n",
      "Solving environment: ...working... done\n",
      "\n",
      "# All requested packages already installed.\n",
      "\n"
     ]
    },
    {
     "name": "stderr",
     "output_type": "stream",
     "text": [
      "\n",
      "\n",
      "==> WARNING: A newer version of conda exists. <==\n",
      "  current version: 23.7.4\n",
      "  latest version: 23.11.0\n",
      "\n",
      "Please update conda by running\n",
      "\n",
      "    $ conda update -n base -c defaults conda\n",
      "\n",
      "Or to minimize the number of packages updated during conda update use\n",
      "\n",
      "     conda install conda=23.11.0\n",
      "\n",
      "\n"
     ]
    },
    {
     "name": "stdout",
     "output_type": "stream",
     "text": [
      "^C\n"
     ]
    }
   ],
   "source": [
    "#conda install -c conda-forge chromedriver_autoinstaller"
   ]
  },
  {
   "cell_type": "code",
   "execution_count": 22,
   "id": "f96ef70b",
   "metadata": {},
   "outputs": [
    {
     "name": "stdout",
     "output_type": "stream",
     "text": [
      "Collecting chromedriver-autoinstaller\n",
      "  Obtaining dependency information for chromedriver-autoinstaller from https://files.pythonhosted.org/packages/6c/ae/c9946f89b42a752b38fa33fe82676e8e8fe722f3287d9909f3bd0e11e537/chromedriver_autoinstaller-0.6.3-py3-none-any.whl.metadata\n",
      "  Downloading chromedriver_autoinstaller-0.6.3-py3-none-any.whl.metadata (2.0 kB)\n",
      "Requirement already satisfied: packaging>=23.1 in c:\\users\\user\\anaconda3\\lib\\site-packages (from chromedriver-autoinstaller) (23.1)\n",
      "Downloading chromedriver_autoinstaller-0.6.3-py3-none-any.whl (7.6 kB)\n",
      "Installing collected packages: chromedriver-autoinstaller\n",
      "Successfully installed chromedriver-autoinstaller-0.6.3\n"
     ]
    }
   ],
   "source": [
    "!pip install chromedriver-autoinstaller"
   ]
  },
  {
   "cell_type": "code",
   "execution_count": null,
   "id": "00e8ec15",
   "metadata": {},
   "outputs": [],
   "source": []
  },
  {
   "cell_type": "code",
   "execution_count": null,
   "id": "44ca5dd8",
   "metadata": {},
   "outputs": [],
   "source": []
  },
  {
   "cell_type": "code",
   "execution_count": 26,
   "id": "9ebd71f0",
   "metadata": {},
   "outputs": [
    {
     "name": "stdout",
     "output_type": "stream",
     "text": [
      "연말모임하기 좋은 역삼역 맛집\n",
      "역삼 고기집 회식 맛집 칠프로칠백식당 역삼직영점 메뉴 주차 후기\n",
      "강남/역삼맛집 가볍게 먹으려다가 D지게 먹은 (전)강남직장인의 먹리스트 후기(돼지통/일품각/한성양꼬치...\n",
      "역삼 맛집 진가와 프라이빗 초밥 강남 룸식당\n",
      "역삼동맛집 박속낙지 & 회. 역삼역, 강남 횟집\n",
      "강남역맛집 고기집 함양숯불회관 본점, 지리산 흑돼지가 맛있는 역삼역맛집\n",
      "역삼역 점심 맛집 동봉관 돼지곰탕에 잔술\n",
      "골목골목 숨겨진, 역삼역 맛집 BEST 5\n",
      "역삼역 한식 맛집 대작 돼지갈비 단체 회식장소\n",
      "서울 역삼역 닭도리탕맛집 역삼농원 역대급 숯불의 찐맛\n",
      "역삼역 룸식당 고기집 회식 모임에 최고 맛집 칠프로 칠백식당 역삼직영점 추천\n",
      "역삼역 맛집 / 역삼역 점심 갈비다움 역삼본점\n",
      "강남역 맛집 역삼역 점심 딤섬맛집 신복면관\n",
      "역삼역 맛집!!\n",
      "풍미가득한 역삼동 맛집\n",
      "역삼동 맛집 초이다이닝 추천해요!!\n",
      "서울 강남 | 쁘라텟타이 · 역삼역 태국음식 맛집 팟타이 뿌팟퐁커리 똠양꿍 세트 추천\n",
      "[서울/강남구] 아쉽게 지나간 올 한해를 평가하며, 역삼역 어복쟁반&평양냉면 <평가옥>\n",
      "역삼동맛집 마구로센 참치\n",
      "역삼맛집 회식하기 좋은 갈비맛집 라비옥\n",
      "역삼 맛집 꼭 가봐야하는 신동궁감자탕 역삼직영점 진짜 매운맛\n",
      "친구들 모임 하기 좋은 역삼동 맛집\n",
      "역삼한우, 선릉한우 - 소담한우(가성비한우, 최상급한우 맛집!)\n",
      "역삼 맛집 추천\n",
      "[강남/역삼] 줄서는 맛집 리스트, 직장인이 추천하는 내돈내산 맛집\n",
      "선릉 역삼 굴국밥 맛집 맛자랑에서 매생이굴국밥 한그릇!\n",
      "맛있어서 재방문한 역삼 맛집 스시산원청\n",
      "역삼 센터필드 맛집 더키친일뽀르노\n",
      "역삼 회식으로 가기 좋은 진갈비 맛집 라비옥 후기\n",
      "역삼 매운 갈비찜 맛집 맛있게 매콤한 갈비다움\n"
     ]
    }
   ],
   "source": [
    "from selenium import webdriver\n",
    "from selenium.webdriver.common.by import By\n",
    "import chromedriver_autoinstaller\n",
    "\n",
    "# Chrome 드라이버 설치\n",
    "chromedriver_autoinstaller.install()\n",
    "\n",
    "# 크롬 옵션 설정\n",
    "chrome_options = webdriver.ChromeOptions()\n",
    "chrome_options.add_argument('--headless')\n",
    "\n",
    "# 크롬 드라이버 실행\n",
    "driver = webdriver.Chrome(options=chrome_options)\n",
    "\n",
    "# 크롤링할 페이지 URL\n",
    "url = \"https://search.naver.com/search.naver?where=view&sm=tab_jum&query=%EC%97%AD%EC%82%BC+%EB%A7%9B%EC%A7%91\"\n",
    "\n",
    "# 페이지 열기\n",
    "driver.get(url)\n",
    "\n",
    "# 블로그 제목에 해당하는 부분을 선택\n",
    "titles = driver.find_elements(By.CLASS_NAME, 'title_link')\n",
    "\n",
    "# 각 블로그 제목을 출력\n",
    "for title in titles:\n",
    "    print(title.text)\n",
    "\n",
    "# 드라이버 종료\n",
    "driver.quit()"
   ]
  },
  {
   "cell_type": "code",
   "execution_count": null,
   "id": "fd4ad070",
   "metadata": {},
   "outputs": [],
   "source": []
  },
  {
   "cell_type": "code",
   "execution_count": null,
   "id": "1b43b808",
   "metadata": {},
   "outputs": [],
   "source": []
  },
  {
   "cell_type": "code",
   "execution_count": 29,
   "id": "7b9b8024",
   "metadata": {},
   "outputs": [
    {
     "name": "stdout",
     "output_type": "stream",
     "text": [
      "링크: https://blog.naver.com/explore5468/223277407023\n",
      "링크: https://blog.naver.com/hdsign88/223300260863\n",
      "링크: https://blog.naver.com/somvly_g1/223088229214\n",
      "링크: https://blog.naver.com/1616sm/223285390935\n",
      "링크: https://blog.naver.com/dlrwnsaka/223294139086\n",
      "링크: https://blog.naver.com/arasi56/223297843724\n",
      "링크: https://blog.naver.com/aisama2/223277705523\n",
      "링크: https://post.naver.com/viewer/postView.nhn?volumeNo=27900240&memberNo=31740578&vType=VERTICAL\n",
      "링크: https://blog.naver.com/kizaki56/223282278030\n",
      "링크: https://blog.naver.com/crispynote/223298266120\n"
     ]
    }
   ],
   "source": [
    "from selenium import webdriver\n",
    "from selenium.webdriver.common.by import By\n",
    "import chromedriver_autoinstaller\n",
    "\n",
    "# Chrome 드라이버 설치\n",
    "chromedriver_autoinstaller.install()\n",
    "\n",
    "# 크롬 옵션 설정\n",
    "chrome_options = webdriver.ChromeOptions()\n",
    "chrome_options.add_argument('--headless')\n",
    "\n",
    "# 크롬 드라이버 실행\n",
    "driver = webdriver.Chrome(options=chrome_options)\n",
    "\n"
   ]
  },
  {
   "cell_type": "code",
   "execution_count": null,
   "id": "879be503",
   "metadata": {},
   "outputs": [],
   "source": []
  },
  {
   "cell_type": "code",
   "execution_count": null,
   "id": "3d1bced3",
   "metadata": {},
   "outputs": [],
   "source": []
  },
  {
   "cell_type": "code",
   "execution_count": 65,
   "id": "0044c413",
   "metadata": {},
   "outputs": [],
   "source": [
    "from selenium import webdriver\n",
    "from selenium.webdriver.chrome.options import Options\n",
    "from selenium.webdriver.common.by import By\n",
    "from selenium.webdriver.support.ui import WebDriverWait\n",
    "from selenium.webdriver.support import expected_conditions as EC\n",
    "from bs4 import BeautifulSoup\n",
    "import chromedriver_autoinstaller"
   ]
  },
  {
   "cell_type": "code",
   "execution_count": 66,
   "id": "c9997e77",
   "metadata": {},
   "outputs": [],
   "source": [
    "# 사용자 에이전트를 설정\n",
    "user_agent = \"Mozilla/5.0 (Windows NT 10.0; Win64; x64) AppleWebKit/537.36 (KHTML, like Gecko) Chrome/91.0.4472.124 Safari/537.36\"\n",
    "\n",
    "# 사용자 에이전트를 포함한 Chrome 옵션을 설정\n",
    "chrome_options = Options()\n",
    "chrome_options.add_argument(f\"user-agent={user_agent}\")\n",
    "chrome_options.add_argument('--headless')\n",
    "\n",
    "# Chrome 드라이버를 설치\n",
    "chromedriver_autoinstaller.install()\n",
    "\n",
    "# Chrome 드라이버를 생성\n",
    "driver = webdriver.Chrome(options=chrome_options)"
   ]
  },
  {
   "cell_type": "code",
   "execution_count": 67,
   "id": "4bc5bb85",
   "metadata": {},
   "outputs": [],
   "source": [
    "# 크롤링할 페이지 URL '역삼 맛집'\n",
    "url = \"https://search.naver.com/search.naver?where=view&sm=tab_jum&query=%EC%97%AD%EC%82%BC+%EB%A7%9B%EC%A7%91\"\n",
    "driver.get(url)\n",
    "\n",
    "blog_links = []\n",
    "\n",
    "# 블로그 제목 클래스 선택\n",
    "titles = driver.find_elements(By.CLASS_NAME, 'title_link')\n",
    "\n",
    "# 상위 10개의 블로그 링크 저장\n",
    "for title in titles[:10]:\n",
    "    blog_links.append(title.get_attribute(\"href\"))"
   ]
  },
  {
   "cell_type": "code",
   "execution_count": 68,
   "id": "2bc86a20",
   "metadata": {},
   "outputs": [
    {
     "name": "stdout",
     "output_type": "stream",
     "text": [
      "https://blog.naver.com/explore5468/223277407023\n",
      "제목: 제목 없음\n",
      "본문: 본문 없음\n",
      "작성일자: 작성일자 없음\n",
      "작성자 ID: 작성자 ID 없음\n",
      "----\n",
      "https://blog.naver.com/hdsign88/223300260863\n",
      "제목: 제목 없음\n",
      "본문: 본문 없음\n",
      "작성일자: 작성일자 없음\n",
      "작성자 ID: 작성자 ID 없음\n",
      "----\n",
      "https://blog.naver.com/somvly_g1/223088229214\n",
      "제목: 제목 없음\n",
      "본문: 본문 없음\n",
      "작성일자: 작성일자 없음\n",
      "작성자 ID: 작성자 ID 없음\n",
      "----\n",
      "https://blog.naver.com/1616sm/223285390935\n",
      "제목: 제목 없음\n",
      "본문: 본문 없음\n",
      "작성일자: 작성일자 없음\n",
      "작성자 ID: 작성자 ID 없음\n",
      "----\n",
      "https://blog.naver.com/dlrwnsaka/223294139086\n",
      "제목: 제목 없음\n",
      "본문: 본문 없음\n",
      "작성일자: 작성일자 없음\n",
      "작성자 ID: 작성자 ID 없음\n",
      "----\n",
      "https://blog.naver.com/dorami7/223302949319\n",
      "제목: 제목 없음\n",
      "본문: 본문 없음\n",
      "작성일자: 작성일자 없음\n",
      "작성자 ID: 작성자 ID 없음\n",
      "----\n",
      "https://blog.naver.com/arasi56/223297843724\n",
      "제목: 제목 없음\n",
      "본문: 본문 없음\n",
      "작성일자: 작성일자 없음\n",
      "작성자 ID: 작성자 ID 없음\n",
      "----\n",
      "https://post.naver.com/viewer/postView.nhn?volumeNo=27900240&memberNo=31740578&vType=VERTICAL\n",
      "제목: 제목 없음\n",
      "본문: 본문 없음\n",
      "작성일자: 2020.04.06. 12:00\n",
      "작성자 ID: 작성자 ID 없음\n",
      "----\n",
      "https://blog.naver.com/aisama2/223277705523\n",
      "제목: 제목 없음\n",
      "본문: 본문 없음\n",
      "작성일자: 작성일자 없음\n",
      "작성자 ID: 작성자 ID 없음\n",
      "----\n",
      "https://blog.naver.com/crispynote/223298266120\n",
      "제목: 제목 없음\n",
      "본문: 본문 없음\n",
      "작성일자: 작성일자 없음\n",
      "작성자 ID: 작성자 ID 없음\n",
      "----\n"
     ]
    }
   ],
   "source": [
    "for link in blog_links:\n",
    "    print(link)\n",
    "    driver.get(link)  \n",
    "\n",
    "    # 페이지 소스\n",
    "    page_source = driver.page_source\n",
    "    \n",
    "    soup = BeautifulSoup(page_source, 'html.parser')\n",
    "\n",
    "    # 제목\n",
    "    title_element = soup.find('span', {'class': 'se-title-text'})\n",
    "    title = title_element.text.strip() if title_element else \"제목 없음\"\n",
    "\n",
    "    # 본문\n",
    "    content_element = soup.find('div', {'class': 'se-main-container'})\n",
    "    content = content_element.text.strip() if content_element else \"본문 없음\"\n",
    "\n",
    "    # 작성일자\n",
    "    publish_date_element = soup.find('span', {'class': 'se_publishDate'})\n",
    "    publish_date = publish_date_element.text.strip() if publish_date_element else \"작성일자 없음\"\n",
    "\n",
    "    # 작성자 ID\n",
    "    author_id_element = soup.find('span', {'class': 'nick'})\n",
    "    author_id = author_id_element.find('a').text.strip() if author_id_element else \"작성자 ID 없음\"\n",
    "\n",
    "    print(f\"제목: {title}\")\n",
    "    print(f\"본문: {content}\")\n",
    "    print(f\"작성일자: {publish_date}\")\n",
    "    print(f\"작성자 ID: {author_id}\")\n",
    "    print(\"----\")"
   ]
  },
  {
   "cell_type": "code",
   "execution_count": 63,
   "id": "4c26488f",
   "metadata": {},
   "outputs": [
    {
     "name": "stdout",
     "output_type": "stream",
     "text": [
      "https://blog.naver.com/explore5468/223277407023\n",
      "제목: 제목 없음\n",
      "본문: 본문 없음\n",
      "작성일자: 작성일자 없음\n",
      "작성자 ID: 작성자 ID 없음\n",
      "----\n",
      "https://blog.naver.com/hdsign88/223300260863\n",
      "제목: 제목 없음\n",
      "본문: 본문 없음\n",
      "작성일자: 작성일자 없음\n",
      "작성자 ID: 작성자 ID 없음\n",
      "----\n",
      "https://blog.naver.com/somvly_g1/223088229214\n",
      "제목: 제목 없음\n",
      "본문: 본문 없음\n",
      "작성일자: 작성일자 없음\n",
      "작성자 ID: 작성자 ID 없음\n",
      "----\n",
      "https://blog.naver.com/1616sm/223285390935\n",
      "제목: 제목 없음\n",
      "본문: 본문 없음\n",
      "작성일자: 작성일자 없음\n",
      "작성자 ID: 작성자 ID 없음\n",
      "----\n",
      "https://blog.naver.com/dlrwnsaka/223294139086\n",
      "제목: 제목 없음\n",
      "본문: 본문 없음\n",
      "작성일자: 작성일자 없음\n",
      "작성자 ID: 작성자 ID 없음\n",
      "----\n",
      "https://blog.naver.com/dorami7/223302949319\n",
      "제목: 제목 없음\n",
      "본문: 본문 없음\n",
      "작성일자: 작성일자 없음\n",
      "작성자 ID: 작성자 ID 없음\n",
      "----\n",
      "https://blog.naver.com/arasi56/223297843724\n",
      "제목: 제목 없음\n",
      "본문: 본문 없음\n",
      "작성일자: 작성일자 없음\n",
      "작성자 ID: 작성자 ID 없음\n",
      "----\n",
      "https://post.naver.com/viewer/postView.nhn?volumeNo=27900240&memberNo=31740578&vType=VERTICAL\n",
      "제목: 제목 없음\n",
      "본문: 본문 없음\n",
      "작성일자: 2020.04.06. 12:00\n",
      "작성자 ID: 작성자 ID 없음\n",
      "----\n",
      "https://blog.naver.com/aisama2/223277705523\n",
      "제목: 제목 없음\n",
      "본문: 본문 없음\n",
      "작성일자: 작성일자 없음\n",
      "작성자 ID: 작성자 ID 없음\n",
      "----\n",
      "https://blog.naver.com/crispynote/223298266120\n",
      "제목: 제목 없음\n",
      "본문: 본문 없음\n",
      "작성일자: 작성일자 없음\n",
      "작성자 ID: 작성자 ID 없음\n",
      "----\n"
     ]
    }
   ],
   "source": [
    "# 드라이버 종료\n",
    "driver.quit()"
   ]
  }
 ],
 "metadata": {
  "kernelspec": {
   "display_name": "Python 3 (ipykernel)",
   "language": "python",
   "name": "python3"
  },
  "language_info": {
   "codemirror_mode": {
    "name": "ipython",
    "version": 3
   },
   "file_extension": ".py",
   "mimetype": "text/x-python",
   "name": "python",
   "nbconvert_exporter": "python",
   "pygments_lexer": "ipython3",
   "version": "3.11.5"
  }
 },
 "nbformat": 4,
 "nbformat_minor": 5
}
